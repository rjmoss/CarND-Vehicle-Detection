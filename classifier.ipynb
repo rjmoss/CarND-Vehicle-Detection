{
 "cells": [
  {
   "cell_type": "code",
   "execution_count": 1,
   "metadata": {},
   "outputs": [
    {
     "name": "stderr",
     "output_type": "stream",
     "text": [
      "/Users/robertmoss/Code/miniconda3/envs/carnd-term1/lib/python3.5/site-packages/sklearn/cross_validation.py:41: DeprecationWarning: This module was deprecated in version 0.18 in favor of the model_selection module into which all the refactored classes and functions are moved. Also note that the interface of the new CV iterators are different from that of this module. This module will be removed in 0.20.\n",
      "  \"This module will be removed in 0.20.\", DeprecationWarning)\n"
     ]
    }
   ],
   "source": [
    "import matplotlib.image as mpimg\n",
    "import matplotlib.pyplot as plt\n",
    "import numpy as np\n",
    "import cv2\n",
    "import glob\n",
    "import pickle\n",
    "import time\n",
    "from sklearn.svm import LinearSVC\n",
    "from sklearn.preprocessing import StandardScaler\n",
    "from skimage.feature import hog\n",
    "\n",
    "from utils import extract_features_many_filenames\n",
    "\n",
    "# NOTE: the next import is only valid for scikit-learn version <= 0.17\n",
    "# for scikit-learn >= 0.18 use:\n",
    "# from sklearn.model_selection import train_test_split\n",
    "from sklearn.cross_validation import train_test_split"
   ]
  },
  {
   "cell_type": "code",
   "execution_count": 11,
   "metadata": {},
   "outputs": [
    {
     "name": "stdout",
     "output_type": "stream",
     "text": [
      "[NbConvertApp] Converting notebook classifier.ipynb to script\n",
      "[NbConvertApp] Writing 3748 bytes to classifier.py\n"
     ]
    }
   ],
   "source": [
    "# To save as normal python script (easier to git diff)\n",
    "!jupyter nbconvert --to script classifier.ipynb"
   ]
  },
  {
   "cell_type": "code",
   "execution_count": 3,
   "metadata": {},
   "outputs": [],
   "source": [
    "training_folders = {\n",
    "    'vehicles': [\n",
    "        'KITTI_extracted',\n",
    "        'GTI_Right',\n",
    "        'GTI_MiddleClose',\n",
    "        'GTI_Left',\n",
    "        'GTI_Far'\n",
    "    ],\n",
    "    'non-vehicles': [\n",
    "        'GTI',\n",
    "        'Extras'\n",
    "    ]\n",
    "}\n",
    "\n",
    "training_filenames = {\n",
    "    'vehicles': [],\n",
    "    'non-vehicles': []\n",
    "}\n",
    "\n",
    "for folder, subfolders in training_folders.items():\n",
    "    for subfolder in subfolders:\n",
    "        files = glob.glob(folder + '/' + subfolder + '/' + '*.png')\n",
    "        training_filenames[folder].extend(files)"
   ]
  },
  {
   "cell_type": "code",
   "execution_count": 4,
   "metadata": {},
   "outputs": [],
   "source": [
    "# Prepare training data\n",
    "    # Load image\n",
    "    # Extract features from image\n",
    "    # Add features to training set\n",
    "    # Preprocess data (might not be here?)"
   ]
  },
  {
   "cell_type": "code",
   "execution_count": 5,
   "metadata": {},
   "outputs": [],
   "source": [
    "# Smaller sample size while preparing pipeline\n",
    "# sample_size = 500\n",
    "# training_filenames['vehicles'] = training_filenames['vehicles'][0:sample_size]\n",
    "# training_filenames['non-vehicles'] = training_filenames['non-vehicles'][0:sample_size]"
   ]
  },
  {
   "cell_type": "code",
   "execution_count": 6,
   "metadata": {},
   "outputs": [],
   "source": [
    "# PARAMETERS\n",
    "config = {\n",
    "    'color_space': 'YUV',      # Can be RGB, HSV, LUV, HLS, YUV, YCrCb\n",
    "\n",
    "    'spatial_feat': True,      # Spatial features on or off\n",
    "    'hist_feat': True,         # Histogram features on or off\n",
    "    'hog_feat': True,          # HOG features on or off\n",
    "    \n",
    "    # HOG features\n",
    "    'orient': 11,               # HOG orientations\n",
    "    'pix_per_cell': 8,         # HOG pixels per cell\n",
    "    'cell_per_block': 2,       # HOG cells per block\n",
    "    'hog_channel': 'ALL',      # Can be 0, 1, 2, or \"ALL\"\n",
    "    \n",
    "    # Spatial features\n",
    "    'spatial_size': (16, 16),  # Spatial binning dimensions\n",
    "\n",
    "    # Color hist features\n",
    "    'hist_bins': 32,           # Number of histogram bins (for color histogram feature)\n",
    "    'hist_range': (0, 256)     # Range for color histogram\n",
    "}"
   ]
  },
  {
   "cell_type": "code",
   "execution_count": 7,
   "metadata": {},
   "outputs": [
    {
     "name": "stderr",
     "output_type": "stream",
     "text": [
      "/Users/robertmoss/Code/miniconda3/envs/carnd-term1/lib/python3.5/site-packages/skimage/feature/_hog.py:119: skimage_deprecation: Default value of `block_norm`==`L1` is deprecated and will be changed to `L2-Hys` in v0.15\n",
      "  'be changed to `L2-Hys` in v0.15', skimage_deprecation)\n"
     ]
    },
    {
     "name": "stdout",
     "output_type": "stream",
     "text": [
      "Feature vector length: 7332\n",
      "CPU times: user 3min, sys: 20.1 s, total: 3min 20s\n",
      "Wall time: 6min 17s\n"
     ]
    }
   ],
   "source": [
    "%%time\n",
    "# Feature extraction and preparation\n",
    "car_features = extract_features_many_filenames(training_filenames['vehicles'], **config)\n",
    "notcar_features = extract_features_many_filenames(training_filenames['non-vehicles'], **config)\n",
    "\n",
    "X = np.vstack((car_features, notcar_features)).astype(np.float64)                        \n",
    "# Fit a per-column scaler\n",
    "X_scaler = StandardScaler().fit(X)\n",
    "# Apply the scaler to X\n",
    "scaled_X = X_scaler.transform(X)\n",
    "\n",
    "# Define the labels vector\n",
    "y = np.hstack((np.ones(len(car_features)), np.zeros(len(notcar_features))))\n",
    "\n",
    "# Split up data into randomized training and test sets\n",
    "X_train, X_test, y_train, y_test = train_test_split(scaled_X, y, test_size=0.2)\n",
    "\n",
    "print('Feature vector length:', len(X_train[0]))"
   ]
  },
  {
   "cell_type": "code",
   "execution_count": 8,
   "metadata": {},
   "outputs": [
    {
     "name": "stdout",
     "output_type": "stream",
     "text": [
      "Test Accuracy of SVC =  0.9938\n",
      "CPU times: user 20.2 s, sys: 5.59 s, total: 25.7 s\n",
      "Wall time: 57.1 s\n"
     ]
    }
   ],
   "source": [
    "%%time\n",
    "# Create the classifier\n",
    "svc = LinearSVC()\n",
    "\n",
    "# Train the classifier\n",
    "svc.fit(X_train, y_train)\n",
    "\n",
    "# Classifier accuracy\n",
    "print('Test Accuracy of SVC = ', round(svc.score(X_test, y_test), 4))"
   ]
  },
  {
   "cell_type": "code",
   "execution_count": 10,
   "metadata": {},
   "outputs": [],
   "source": [
    "# Save the classifier (and the config for training so feature preparation\n",
    "# is the same for training and prediction when classifier is loaded)\n",
    "pickle.dump(svc, open('svc_classifier.pkl', 'wb'))\n",
    "pickle.dump(config, open('feature_config.pkl', 'wb'))\n",
    "pickle.dump(X_scaler, open('x_scaler.pkl', 'wb'))"
   ]
  },
  {
   "cell_type": "code",
   "execution_count": null,
   "metadata": {},
   "outputs": [],
   "source": []
  },
  {
   "cell_type": "code",
   "execution_count": null,
   "metadata": {},
   "outputs": [],
   "source": []
  }
 ],
 "metadata": {
  "kernelspec": {
   "display_name": "Python 3",
   "language": "python",
   "name": "python3"
  },
  "language_info": {
   "codemirror_mode": {
    "name": "ipython",
    "version": 3
   },
   "file_extension": ".py",
   "mimetype": "text/x-python",
   "name": "python",
   "nbconvert_exporter": "python",
   "pygments_lexer": "ipython3",
   "version": "3.5.2"
  },
  "widgets": {
   "state": {},
   "version": "1.1.2"
  }
 },
 "nbformat": 4,
 "nbformat_minor": 2
}
